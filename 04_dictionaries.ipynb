{
  "nbformat": 4,
  "nbformat_minor": 0,
  "metadata": {
    "colab": {
      "provenance": [],
      "authorship_tag": "ABX9TyPnTD2tqfCRYPXlB0sLkF6Q",
      "include_colab_link": true
    },
    "kernelspec": {
      "name": "python3",
      "display_name": "Python 3"
    },
    "language_info": {
      "name": "python"
    }
  },
  "cells": [
    {
      "cell_type": "markdown",
      "metadata": {
        "id": "view-in-github",
        "colab_type": "text"
      },
      "source": [
        "<a href=\"https://colab.research.google.com/github/NaghmanaImran/project_4_Assighment_Naghmana/blob/main/04_dictionaries.ipynb\" target=\"_parent\"><img src=\"https://colab.research.google.com/assets/colab-badge.svg\" alt=\"Open In Colab\"/></a>"
      ]
    },
    {
      "cell_type": "code",
      "execution_count": null,
      "metadata": {
        "id": "jsMAIQlwcieo",
        "colab": {
          "base_uri": "https://localhost:8080/"
        },
        "outputId": "bd09d0ff-e056-4787-d33b-ac2486e0c2f2"
      },
      "outputs": [
        {
          "output_type": "stream",
          "name": "stdout",
          "text": [
            "Enter a number (or press Enter to stop): 8\n",
            "Enter a number (or press Enter to stop): 1\n",
            "Enter a number (or press Enter to stop): 0\n",
            "Enter a number (or press Enter to stop): \n",
            "8 appears 1 times.\n",
            "1 appears 1 times.\n",
            "0 appears 1 times.\n"
          ]
        }
      ],
      "source": [
        "def count_numbers():\n",
        "    number_counts = {}  # ہر نمبر کی تعداد محفوظ کرنے کے لیے dictionary\n",
        "\n",
        "    while True:\n",
        "        number = input(\"Enter a number (or press Enter to stop): \")  # ان پٹ لیں\n",
        "        if number == \"\":  # اگر ان پٹ خالی ہو تو لوپ ختم کریں\n",
        "            break\n",
        "\n",
        "        number = int(number)  # ان پٹ کو integer میں تبدیل کریں\n",
        "\n",
        "        # اگر نمبر پہلے سے موجود ہے تو اس کا count بڑھائیں، ورنہ 1 سے شروع کریں\n",
        "        if number in number_counts:\n",
        "            number_counts[number] += 1\n",
        "        else:\n",
        "            number_counts[number] = 1\n",
        "\n",
        "    # نتائج پرنٹ کریں\n",
        "    for num, count in number_counts.items():\n",
        "        print(f\"{num} appears {count} times.\")\n",
        "\n",
        "# فنکشن کو چلائیں\n",
        "if __name__ == \"__main__\":\n",
        "    count_numbers()\n",
        "\n",
        "\n"
      ]
    },
    {
      "cell_type": "code",
      "source": [
        "def read_phone_numbers():\n",
        "    \"\"\"\n",
        "    Ask the user for names/numbers to store in a phonebook (dictionary).\n",
        "    Returns the phonebook.\n",
        "    \"\"\"\n",
        "    phonebook = {}  # Create empty phonebook\n",
        "\n",
        "    while True:\n",
        "        name = input(\"Name: \")\n",
        "        if name == \"\":\n",
        "            break\n",
        "        number = input(\"Number: \")\n",
        "        phonebook[name] = number\n",
        "\n",
        "    return phonebook\n",
        "\n",
        "\n",
        "def read_phone_numbers():\n",
        "    \"\"\"\n",
        "    Ask the user for names/numbers to store in a phonebook (dictionary).\n",
        "    Returns the phonebook.\n",
        "    \"\"\"\n",
        "    phonebook = {}  # Create empty phonebook\n",
        "\n",
        "    while True:\n",
        "        name = input(\"Name: \")\n",
        "        if name == \"\":\n",
        "            break\n",
        "        number = input(\"Number: \")\n",
        "        phonebook[name] = number\n",
        "\n",
        "    return phonebook\n",
        "\n",
        "\n",
        "def print_phonebook(phonebook):\n",
        "    \"\"\"\n",
        "    Prints out all the names/numbers in the phonebook.\n",
        "    \"\"\"\n",
        "    for name, number in phonebook.items():\n",
        "        print(f\"{name} -> {number}\")\n",
        "\n",
        "\n",
        "def lookup_numbers(phonebook):\n",
        "    \"\"\"\n",
        "    Allow the user to lookup phone numbers in the phonebook\n",
        "    by looking up the number associated with a name.\n",
        "    \"\"\"\n",
        "    while True:\n",
        "        name = input(\"Enter name to lookup: \")\n",
        "        if name == \"\":\n",
        "            break\n",
        "        print(phonebook.get(name, f\"{name} is not in the phonebook\"))\n",
        "\n",
        "\n",
        "def main():\n",
        "    phonebook = read_phone_numbers()\n",
        "    print_phonebook(phonebook)\n",
        "    lookup_numbers(phonebook)\n",
        "\n",
        "\n",
        "# Python boilerplate.\n",
        "if __name__ == '__main__':\n",
        "    main()\n",
        "\n"
      ],
      "metadata": {
        "colab": {
          "base_uri": "https://localhost:8080/"
        },
        "id": "LVxHDWIbUYmz",
        "outputId": "c0df823e-5cd9-4c31-b55f-bf041062554d"
      },
      "execution_count": null,
      "outputs": [
        {
          "metadata": {
            "tags": null
          },
          "name": "stdout",
          "output_type": "stream",
          "text": [
            "naghmana -> 03242814061\n",
            "2344 -> dfddgd\n"
          ]
        }
      ]
    },
    {
      "cell_type": "code",
      "source": [
        "print('02_pop_up_shop.md')\n",
        "def main():\n",
        "    fruits = {'apple': 1.5, 'durian': 50, 'jackfruits': 80, 'kiwi': 1, 'rambutan': 1.5, 'mango': 5}\n",
        "\n",
        "    total_cost = 0\n",
        "    for fruit_name in fruits:\n",
        "        price = fruits[fruit_name]\n",
        "        amount_bought = int(input(\"How many (\" + fruit_name + \") do you want to buy?: \"))\n",
        "        total_cost += (price * amount_bought)\n",
        "\n",
        "    print(\"Your total is $\" + str(total_cost))\n",
        "\n",
        "if __name__ == \"__main__\":\n",
        "    main()\n",
        "\n"
      ],
      "metadata": {
        "id": "K_x2cbMPrv3G"
      },
      "execution_count": null,
      "outputs": []
    },
    {
      "cell_type": "code",
      "source": [
        "print(\"03_powerful_passwords.md\")\n",
        "from hashlib import sha256\n",
        "\n",
        "def login(email, stored_logins, password_to_check):\n",
        "    \"\"\"\n",
        "    Returns True if the hash of the password we are checking matches the one in stored_logins\n",
        "    for a specific email. Otherwise, returns False.\n",
        "    \"\"\"\n",
        "\n",
        "    return stored_logins.get(email) == hash_password(password_to_check)\n",
        "\n",
        "# There is no need to edit code beyond this point\n",
        "\n",
        "def hash_password(password):\n",
        "    \"\"\"\n",
        "    Takes in a password and returns the SHA256 hashed value for that specific password.\n",
        "    \"\"\"\n",
        "    return sha256(password.encode()).hexdigest()\n",
        "\n",
        "def main():\n",
        "    # stored_logins is a dictionary with emails as keys and hashed passwords as values\n",
        "    stored_logins = {\n",
        "        \"example@gmail.com\": hash_password(\"password\"),\n",
        "        \"code_in_placer@cip.org\": hash_password(\"Karel\"),\n",
        "        \"student@stanford.edu\": hash_password(\"123!456?789\")\n",
        "    }\n",
        "\n",
        "    print(login(\"example@gmail.com\", stored_logins, \"word\"))  # False\n",
        "    print(login(\"example@gmail.com\", stored_logins, \"password\"))  # True\n",
        "\n",
        "    print(login(\"code_in_placer@cip.org\", stored_logins, \"Karel\"))  # True\n",
        "    print(login(\"code_in_placer@cip.org\", stored_logins, \"karel\"))  # False\n",
        "\n",
        "    print(login(\"student@stanford.edu\", stored_logins, \"password\"))  # False\n",
        "    print(login(\"student@stanford.edu\", stored_logins, \"123!456?789\"))  # True\n",
        "\n",
        "if __name__ == '__main__':\n",
        "    main()\n"
      ],
      "metadata": {
        "id": "5AB3ST9a1-N5"
      },
      "execution_count": null,
      "outputs": []
    }
  ]
}