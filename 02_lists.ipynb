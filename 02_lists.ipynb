{
  "nbformat": 4,
  "nbformat_minor": 0,
  "metadata": {
    "colab": {
      "provenance": [],
      "authorship_tag": "ABX9TyOi3QdIq0hhcrmxEQIhtDJu",
      "include_colab_link": true
    },
    "kernelspec": {
      "name": "python3",
      "display_name": "Python 3"
    },
    "language_info": {
      "name": "python"
    }
  },
  "cells": [
    {
      "cell_type": "markdown",
      "metadata": {
        "id": "view-in-github",
        "colab_type": "text"
      },
      "source": [
        "<a href=\"https://colab.research.google.com/github/NaghmanaImran/project_4_Assighment_Naghmana/blob/main/02_lists.ipynb\" target=\"_parent\"><img src=\"https://colab.research.google.com/assets/colab-badge.svg\" alt=\"Open In Colab\"/></a>"
      ]
    },
    {
      "cell_type": "code",
      "execution_count": null,
      "metadata": {
        "colab": {
          "base_uri": "https://localhost:8080/"
        },
        "id": "wJjxNihXtBLA",
        "outputId": "1e354f6e-d8d8-4991-a818-f4345a24b826"
      },
      "outputs": [
        {
          "output_type": "stream",
          "name": "stdout",
          "text": [
            "01_add_many_number\n",
            "15\n"
          ]
        }
      ],
      "source": [
        "print(\"01_add_many_number\")\n",
        "\n",
        "def add_number(numbers: list[int]) -> int:\n",
        "    num: int = 0\n",
        "    for i in numbers:\n",
        "        num += i\n",
        "    return num  # Return statement should be outside the loop\n",
        "\n",
        "def main():\n",
        "    numbers: list[int] = [1, 2, 3, 4, 5]\n",
        "    total = add_number(numbers)  # Use 'total' instead of 'sum'\n",
        "    print(total)\n",
        "\n",
        "if __name__ == \"__main__\":\n",
        "    main()\n"
      ]
    },
    {
      "cell_type": "code",
      "source": [
        "print(\"02_double_list.md\")\n",
        "\n",
        "def main():\n",
        "    numbers: list[int] = [1, 2, 3, 4, 5]  # Ek list banai\n",
        "\n",
        "    for i in range(len(numbers)):  # Loop jo har element ka index dega\n",
        "        index = numbers[i]  # Current element ko variable me store kar rahe hain\n",
        "        numbers[i] = index * 2  # Element ko double kar rahe hain\n",
        "\n",
        "    print(numbers)  # Final updated list print kar rahe hain\n",
        "\n",
        "if __name__ == \"__main__\":\n",
        "    main()\n",
        "\n"
      ],
      "metadata": {
        "colab": {
          "base_uri": "https://localhost:8080/"
        },
        "id": "eEObQ-zC-hSa",
        "outputId": "d04e888a-97ee-4c18-a3e9-7227fa999693"
      },
      "execution_count": null,
      "outputs": [
        {
          "output_type": "stream",
          "name": "stdout",
          "text": [
            "02_double_list.md\n",
            "[2, 4, 6, 8, 10]\n"
          ]
        }
      ]
    },
    {
      "cell_type": "code",
      "source": [
        "print('erase_canvas.md')\n",
        "from graphics import Canvas\n",
        "import time\n",
        "\n",
        "CANVAS_WIDTH : int = 400\n",
        "CANVAS_HEIGHT : int = 400\n",
        "\n",
        "CELL_SIZE : int = 40\n",
        "ERASER_SIZE : int = 20\n",
        "\n",
        "def erase_objects(canvas, eraser):\n",
        "    \"\"\"Erase objects in contact with the eraser\"\"\"\n",
        "    # Get mouse info to help us know which cells to delete\n",
        "    mouse_x = canvas.get_mouse_x()\n",
        "    mouse_y = canvas.get_mouse_y()\n",
        "\n",
        "    # Calculate where our eraser is\n",
        "    left_x = mouse_x\n",
        "    top_y = mouse_y\n",
        "    right_x = left_x + ERASER_SIZE\n",
        "    bottom_y = top_y + ERASER_SIZE\n",
        "\n",
        "    # Find things that overlap with our eraser\n",
        "    overlapping_objects = canvas.find_overlapping(left_x, top_y, right_x, bottom_y)\n",
        "\n",
        "    # For everything that overlaps with our eraser (that isn't our eraser), change\n",
        "    # its color to white\n",
        "    for overlapping_object in overlapping_objects:\n",
        "        if overlapping_object != eraser:\n",
        "            canvas.set_color(overlapping_object, 'white')\n",
        "\n",
        "# There is no need to edit code beyond this point\n",
        "\n",
        "def main():\n",
        "    canvas = Canvas(CANVAS_WIDTH, CANVAS_HEIGHT)\n",
        "\n",
        "    num_rows = CANVAS_HEIGHT // CELL_SIZE  # Figure out how many rows of cells we need\n",
        "    num_cols = CANVAS_WIDTH // CELL_SIZE   # Figure out how many columns of cells we need\n",
        "\n",
        "    # Make a grid of squares based on the number of rows and columns.\n",
        "    # The rows and columns along with our cell size help determine where\n",
        "    # each individual cell belongs in our grid!\n",
        "    for row in range(num_rows):\n",
        "        for col in range(num_cols):\n",
        "            left_x = col * CELL_SIZE\n",
        "            top_y = row * CELL_SIZE\n",
        "            right_x = left_x + CELL_SIZE   # The right coordinate of the cell is CELL_SIZE pixels away from the left\n",
        "            bottom_y = top_y + CELL_SIZE   # The bottom coordinate of the cell is CELL_SIZE pixels away from the top\n",
        "\n",
        "            # Create a single cell in the grid\n",
        "            cell = canvas.create_rectangle(left_x, top_y, right_x, bottom_y, 'blue')\n",
        "\n",
        "\n",
        "    canvas.wait_for_click()  # Wait for the user to click before creating the eraser\n",
        "\n",
        "    last_click_x, last_click_y = canvas.get_last_click()  # Get the starting location for the eraser\n",
        "\n",
        "    # Create our eraser\n",
        "    eraser = canvas.create_rectangle(\n",
        "        last_click_x,\n",
        "        last_click_y,\n",
        "        last_click_x + ERASER_SIZE,\n",
        "        last_click_y + ERASER_SIZE,\n",
        "        'pink'\n",
        "    )\n",
        "\n",
        "    # Move the eraser, and erase what it's touching\n",
        "    while True:\n",
        "        # Get where our mouse is and move the eraser to there\n",
        "        mouse_x = canvas.get_mouse_x()\n",
        "        mouse_y = canvas.get_mouse_y()\n",
        "        canvas.moveto(eraser, mouse_x, mouse_y)\n",
        "\n",
        "        # Erase anything touching the eraser\n",
        "        erase_objects(canvas, eraser)\n",
        "\n",
        "        time.sleep(0.05)\n",
        "\n",
        "\n",
        "if __name__ == '__main__':\n",
        "    main()"
      ],
      "metadata": {
        "colab": {
          "base_uri": "https://localhost:8080/",
          "height": 401
        },
        "id": "2_QoVZEyrXKz",
        "outputId": "76530538-4f62-4ade-87f3-bbcdec9c8537"
      },
      "execution_count": 2,
      "outputs": [
        {
          "output_type": "stream",
          "name": "stdout",
          "text": [
            "erase_canvas.md\n"
          ]
        },
        {
          "output_type": "error",
          "ename": "ModuleNotFoundError",
          "evalue": "No module named 'graphics'",
          "traceback": [
            "\u001b[0;31m---------------------------------------------------------------------------\u001b[0m",
            "\u001b[0;31mModuleNotFoundError\u001b[0m                       Traceback (most recent call last)",
            "\u001b[0;32m<ipython-input-2-2617f375c159>\u001b[0m in \u001b[0;36m<cell line: 0>\u001b[0;34m()\u001b[0m\n\u001b[1;32m      1\u001b[0m \u001b[0mprint\u001b[0m\u001b[0;34m(\u001b[0m\u001b[0;34m'erase_canvas.md'\u001b[0m\u001b[0;34m)\u001b[0m\u001b[0;34m\u001b[0m\u001b[0;34m\u001b[0m\u001b[0m\n\u001b[0;32m----> 2\u001b[0;31m \u001b[0;32mfrom\u001b[0m \u001b[0mgraphics\u001b[0m \u001b[0;32mimport\u001b[0m \u001b[0mCanvas\u001b[0m\u001b[0;34m\u001b[0m\u001b[0;34m\u001b[0m\u001b[0m\n\u001b[0m\u001b[1;32m      3\u001b[0m \u001b[0;32mimport\u001b[0m \u001b[0mtime\u001b[0m\u001b[0;34m\u001b[0m\u001b[0;34m\u001b[0m\u001b[0m\n\u001b[1;32m      4\u001b[0m \u001b[0;34m\u001b[0m\u001b[0m\n\u001b[1;32m      5\u001b[0m \u001b[0mCANVAS_WIDTH\u001b[0m \u001b[0;34m:\u001b[0m \u001b[0mint\u001b[0m \u001b[0;34m=\u001b[0m \u001b[0;36m400\u001b[0m\u001b[0;34m\u001b[0m\u001b[0;34m\u001b[0m\u001b[0m\n",
            "\u001b[0;31mModuleNotFoundError\u001b[0m: No module named 'graphics'",
            "",
            "\u001b[0;31m---------------------------------------------------------------------------\u001b[0;32m\nNOTE: If your import is failing due to a missing package, you can\nmanually install dependencies using either !pip or !apt.\n\nTo view examples of installing some common dependencies, click the\n\"Open Examples\" button below.\n\u001b[0;31m---------------------------------------------------------------------------\u001b[0m\n"
          ],
          "errorDetails": {
            "actions": [
              {
                "action": "open_url",
                "actionText": "Open Examples",
                "url": "/notebooks/snippets/importing_libraries.ipynb"
              }
            ]
          }
        }
      ]
    },
    {
      "cell_type": "code",
      "source": [
        "def add_three_copies(lst, data):\n",
        "    \"\"\"Given a list and a data item, add three copies of the data to the list.\"\"\"\n",
        "    for i in range(3):\n",
        "        lst.append(data)  # 3 بار ڈیٹا ایڈ ہوگا\n",
        "\n",
        "def main():\n",
        "    message = input(\"Enter a message to copy: \")  # یوزر سے ان پٹ لیں\n",
        "    lst = []  # خالی لسٹ بنائیں\n",
        "    print(\"Before list:\", lst)\n",
        "\n",
        "    add_three_copies(lst, message)  # فنکشن کال کریں\n",
        "\n",
        "    print(\"After list:\", lst)\n",
        "\n",
        "if __name__ == \"__main__\":\n",
        "    main()\n",
        "\n"
      ],
      "metadata": {
        "colab": {
          "base_uri": "https://localhost:8080/"
        },
        "id": "9XtRvCpcyUgd",
        "outputId": "2204e6b4-6cf8-4b88-d07d-ff53cbf399e4"
      },
      "execution_count": 2,
      "outputs": [
        {
          "output_type": "stream",
          "name": "stdout",
          "text": [
            "Enter a message to copy: hello\n",
            "Before list: []\n",
            "After list: ['hello', 'hello', 'hello']\n"
          ]
        }
      ]
    },
    {
      "cell_type": "code",
      "source": [
        "print(\"05_get_first_element.md\")\n",
        "def get_first_element(lst):\n",
        "    \"\"\"\n",
        "    Prints the first element of a provided list.\n",
        "    \"\"\"\n",
        "    print(lst[0])\n",
        "\n",
        "def get_lst():\n",
        "    \"\"\"\n",
        "    Prompts the user to enter one element of the list at a time and returns the resulting list.\n",
        "    \"\"\"\n",
        "    lst = []  # خالی لسٹ بنائیں\n",
        "    elem = input(\"Please enter an element of the list or press enter to stop: \")\n",
        "\n",
        "    while elem != \"\":  # جب تک یوزر ان پٹ دیتا رہے، لسٹ میں شامل کریں\n",
        "        lst.append(elem)\n",
        "        elem = input(\"Please enter an element of the list or press enter to stop: \")\n",
        "\n",
        "    return lst  # یوزر کی بنائی ہوئی لسٹ واپس کریں\n",
        "\n",
        "def main():\n",
        "    lst = get_lst()  # یوزر سے لسٹ ان پٹ لیں\n",
        "    get_first_element(lst)  # پہلا ایلیمنٹ پرنٹ کریں\n",
        "\n",
        "if __name__ == '__main__':\n",
        "    main()\n",
        "\n",
        "\n",
        "\n",
        "\n",
        "\n"
      ],
      "metadata": {
        "colab": {
          "base_uri": "https://localhost:8080/"
        },
        "id": "HhWDIVjQ0t8J",
        "outputId": "0b554f9d-d541-4b15-c76a-fabeb43cb599"
      },
      "execution_count": 3,
      "outputs": [
        {
          "output_type": "stream",
          "name": "stdout",
          "text": [
            "Please enter an element of the list or press enter to stop: naghmana\n",
            "Please enter an element of the list or press enter to stop: imran\n",
            "Please enter an element of the list or press enter to stop: apple\n",
            "Please enter an element of the list or press enter to stop: mango\n",
            "Please enter an element of the list or press enter to stop: \n",
            "naghmana\n"
          ]
        }
      ]
    },
    {
      "cell_type": "code",
      "source": [
        "print(\"06_get_last_element.md\")\n",
        "def get_last_element(lst):\n",
        "    \"\"\"\n",
        "    Prints the last element of the provided list.\n",
        "    \"\"\"\n",
        "    print(\"Last element:\", lst[-1])  # آخری ایلیمنٹ پرنٹ کریں\n",
        "\n",
        "def get_lst():\n",
        "    \"\"\"\n",
        "    Prompts the user to enter one element of the list at a time and returns the resulting list.\n",
        "    \"\"\"\n",
        "    lst = []  # خالی لسٹ بنائیں\n",
        "    elem = input(\"Please enter an element of the list or press enter to stop: \")\n",
        "\n",
        "    while elem != \"\":  # جب تک یوزر ان پٹ دیتا رہے، لسٹ میں شامل کریں\n",
        "        lst.append(elem)\n",
        "        elem = input(\"Please enter an element of the list or press enter to stop: \")\n",
        "\n",
        "    return lst  # یوزر کی بنائی ہوئی لسٹ واپس کریں\n",
        "\n",
        "def main():\n",
        "    lst = get_lst()  # یوزر سے لسٹ ان پٹ لیں\n",
        "    get_last_element(lst)  # آخری ایلیمنٹ پرنٹ کریں\n",
        "\n",
        "if __name__ == '__main__':\n",
        "    main()\n"
      ],
      "metadata": {
        "colab": {
          "base_uri": "https://localhost:8080/"
        },
        "id": "DQg_EhLh6PX_",
        "outputId": "ea5fe3ce-e6c6-4f09-ec75-5293e1ec9ac3"
      },
      "execution_count": 5,
      "outputs": [
        {
          "output_type": "stream",
          "name": "stdout",
          "text": [
            "06_get_last_element.md\n",
            "Please enter an element of the list or press enter to stop: appl, mango ,orange\n",
            "Please enter an element of the list or press enter to stop: \n",
            "Last element: appl, mango ,orange\n"
          ]
        }
      ]
    },
    {
      "cell_type": "code",
      "source": [
        "print(\"07_get_list.md\")\n",
        "def main():\n",
        "    lst = []  # خالی لسٹ بنائیں تاکہ یوزر کے دیے گئے ویلیوز کو اسٹور کریں\n",
        "\n",
        "    val = input(\"Enter a value: \")  # یوزر سے پہلی ویلیو لیں\n",
        "    while val:  # جب تک یوزر کوئی ویلیو دے رہا ہے، لوپ چلے گا\n",
        "        lst.append(val)  # لسٹ میں ویلیو شامل کریں\n",
        "        val = input(\"Enter a value: \")  # اگلی ویلیو لیں\n",
        "\n",
        "    print(\"Here's the list:\", lst)  # لسٹ پرنٹ کریں\n",
        "\n",
        "# اگر یہ فائل ڈائریکٹلی چلائی جائے تو main() فنکشن چلے گا\n",
        "if __name__ == '__main__':\n",
        "    main()\n"
      ],
      "metadata": {
        "colab": {
          "base_uri": "https://localhost:8080/"
        },
        "id": "MxF2fYUt8yyH",
        "outputId": "2feb390c-190f-426a-f0d9-650ccb51b4b1"
      },
      "execution_count": 6,
      "outputs": [
        {
          "output_type": "stream",
          "name": "stdout",
          "text": [
            "07_get_list.md\n",
            "Enter a value: 1,2,3,4,5,6\n",
            "Enter a value: \n",
            "Here's the list: ['1,2,3,4,5,6']\n"
          ]
        }
      ]
    },
    {
      "cell_type": "code",
      "source": [
        "print(\"08_shorten.md\")\n",
        "MAX_LENGTH = 3  # زیادہ سے زیادہ 3 elements رکھنے ہیں\n",
        "\n",
        "def shorten(lst):\n",
        "    \"\"\" لسٹ کو 3 elements تک محدود کرتا ہے \"\"\"\n",
        "    while len(lst) > MAX_LENGTH:\n",
        "        last_elem = lst.pop()  # آخری element نکالو\n",
        "        print(\"Removing:\", last_elem)  # جو remove کیا اسے دکھاؤ\n",
        "\n",
        "    print(\"Shortened List:\", lst)  # فائنل لسٹ دکھائیں\n",
        "\n",
        "def get_lst():\n",
        "    \"\"\" یوزر سے لسٹ لینے کا فنکشن \"\"\"\n",
        "    lst = []\n",
        "    elem = input(\"Enter a value (or press enter to stop): \")\n",
        "    while elem:\n",
        "        lst.append(elem)\n",
        "        elem = input(\"Enter a value (or press enter to stop): \")\n",
        "    return lst\n",
        "\n",
        "def main():\n",
        "    lst = get_lst()  # یوزر سے لسٹ لو\n",
        "    print(\"Original list:\", lst)  # پہلے لسٹ دکھاؤ\n",
        "    shorten(lst)  # لسٹ کو چھوٹا کرو\n",
        "\n",
        "if __name__ == '__main__':\n",
        "    main()\n"
      ],
      "metadata": {
        "colab": {
          "base_uri": "https://localhost:8080/"
        },
        "id": "Wr7Rs_QB96PK",
        "outputId": "60c3942f-a2c9-46d8-aba6-9976fc5206c0"
      },
      "execution_count": 14,
      "outputs": [
        {
          "output_type": "stream",
          "name": "stdout",
          "text": [
            "08_shorten.md\n",
            "Enter a value (or press enter to stop): A\n",
            "Enter a value (or press enter to stop): B\n",
            "Enter a value (or press enter to stop): C\n",
            "Enter a value (or press enter to stop): D\n",
            "Enter a value (or press enter to stop): F\n",
            "Enter a value (or press enter to stop): G\n",
            "Enter a value (or press enter to stop): H\n",
            "Enter a value (or press enter to stop): Y\n",
            "Enter a value (or press enter to stop): F\n",
            "Enter a value (or press enter to stop): \n",
            "Original list: ['A', 'B', 'C', 'D', 'F', 'G', 'H', 'Y', 'F']\n",
            "Removing: F\n",
            "Removing: Y\n",
            "Removing: H\n",
            "Removing: G\n",
            "Removing: F\n",
            "Removing: D\n",
            "Shortened List: ['A', 'B', 'C']\n"
          ]
        }
      ]
    }
  ]
}