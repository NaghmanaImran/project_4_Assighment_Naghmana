{
  "cells": [
    {
      "cell_type": "markdown",
      "metadata": {
        "id": "view-in-github",
        "colab_type": "text"
      },
      "source": [
        "<a href=\"https://colab.research.google.com/github/NaghmanaImran/project_4_Assighment_Naghmana/blob/main/02_intermediate_Control_Flow_for_Console_pynb.ipynb\" target=\"_parent\"><img src=\"https://colab.research.google.com/assets/colab-badge.svg\" alt=\"Open In Colab\"/></a>"
      ]
    },
    {
      "cell_type": "code",
      "execution_count": null,
      "metadata": {
        "colab": {
          "background_save": true,
          "base_uri": "https://localhost:8080/"
        },
        "id": "ankUZR9oUuap",
        "outputId": "46ac973b-bc95-47dd-ac79-c410c4019aab"
      },
      "outputs": [
        {
          "name": "stdout",
          "output_type": "stream",
          "text": [
            "Welcome to the High-Low Game!\n",
            "--------------------------------\n",
            "\n",
            "Round 1\n",
            "Your number is 28\n",
            "You were right! The computer's number was 59.\n",
            "Your score is now 1\n",
            "\n",
            "Round 2\n",
            "Your number is 90\n",
            "Aww, that's incorrect. The computer's number was 14.\n",
            "Your score is now 1\n",
            "\n",
            "Round 3\n",
            "Your number is 73\n"
          ]
        }
      ],
      "source": [
        "print('High-Low Game!')\n",
        "\n",
        "import random\n",
        "\n",
        "def main():\n",
        "    score = 0\n",
        "    num_rounds = 5  # Total number of rounds\n",
        "\n",
        "    print('Welcome to the High-Low Game!')\n",
        "    print('--------------------------------')\n",
        "\n",
        "    for round_number in range(1, num_rounds + 1):\n",
        "        user_number = random.randint(1, 100)\n",
        "        computer_number = random.randint(1, 100)\n",
        "\n",
        "        print(f\"\\nRound {round_number}\")\n",
        "        print(f\"Your number is {user_number}\")\n",
        "\n",
        "        # Get user input\n",
        "        guess = input(\"Do you think your number is higher or lower than the computer's? (higher/lower): \").strip().lower()\n",
        "\n",
        "        # Validate input\n",
        "        while guess not in [\"higher\", \"lower\"]:\n",
        "            guess = input(\"Please enter either 'higher' or 'lower': \").strip().lower()\n",
        "\n",
        "        # Check for tie\n",
        "        if user_number == computer_number:\n",
        "            print(f\"Both numbers are the same: {user_number}. It's a tie! No points this round.\")\n",
        "        elif guess == \"higher\" and user_number > computer_number:\n",
        "            print(f\"You were right! The computer's number was {computer_number}.\")\n",
        "            score += 1\n",
        "        elif guess == \"lower\" and user_number < computer_number:\n",
        "            print(f\"You were right! The computer's number was {computer_number}.\")\n",
        "            score += 1\n",
        "        else:\n",
        "            print(f\"Aww, that's incorrect. The computer's number was {computer_number}.\")\n",
        "\n",
        "        print(f\"Your score is now {score}\")\n",
        "\n",
        "    # End game message\n",
        "    print(\"\\nThanks for playing!\")\n",
        "    print(f\"Your final score is {score}/{num_rounds}.\")\n",
        "\n",
        "    if score == num_rounds:\n",
        "        print(\"🌟 Wow! You played perfectly!\")\n",
        "    elif score >= num_rounds // 2:\n",
        "        print(\"👍 Good job, you played really well!\")\n",
        "    else:\n",
        "        print(\"😢 Better luck next time!\")\n",
        "\n",
        "if __name__ == '__main__':\n",
        "    main()\n",
        "\n"
      ]
    },
    {
      "cell_type": "code",
      "execution_count": null,
      "metadata": {
        "colab": {
          "background_save": true,
          "base_uri": "https://localhost:8080/"
        },
        "id": "yaWmOpgeYz_N",
        "outputId": "2d83e903-a93b-4b7c-f06b-143e181bebfb"
      },
      "outputs": [
        {
          "name": "stdout",
          "output_type": "stream",
          "text": [
            "solution.md\n",
            "Welcome to the High-Low Game!\n",
            "--------------------------------\n",
            "Round 1\n",
            "Your number is 65\n",
            "Aww, that's incorrect. The computer's number was 87\n",
            "Your score is now 0\n",
            "\n",
            "Round 2\n",
            "Your number is 94\n",
            "Aww, that's incorrect. The computer's number was 6\n",
            "Your score is now 0\n",
            "\n",
            "Round 3\n",
            "Your number is 14\n",
            "Aww, that's incorrect. The computer's number was 72\n",
            "Your score is now 0\n",
            "\n",
            "Round 4\n",
            "Your number is 58\n",
            "Aww, that's incorrect. The computer's number was 34\n",
            "Your score is now 0\n",
            "\n",
            "Round 5\n",
            "Your number is 45\n"
          ]
        }
      ],
      "source": [
        "print('solution.md')\n",
        "import random\n",
        "\n",
        "NUM_ROUNDS = 5\n",
        "\n",
        "def main():\n",
        "    print(\"Welcome to the High-Low Game!\")\n",
        "    print('--------------------------------')\n",
        "\n",
        "    # Milestone 5: keep track of your score\n",
        "    your_score = 0\n",
        "\n",
        "    # Milestone 4: Play multiple rounds\n",
        "    for i in range(NUM_ROUNDS):\n",
        "        print(\"Round\", i + 1)\n",
        "        # Milestone 1: Generate the random numbers and print them out\n",
        "        computer_num: int = random.randint(1, 100)\n",
        "        your_num: int = random.randint(1, 100)\n",
        "        print(\"Your number is\", your_num)\n",
        "\n",
        "        # Milestone 2: Get user input for their choice\n",
        "        choice: str = input(\"Do you think your number is higher or lower than the computer's?: \")\n",
        "\n",
        "        # Milestone 3: Map out all the ways to win the round\n",
        "        higher_and_correct: bool = choice == \"higher\" and your_num > computer_num\n",
        "        lower_and_correct: bool = choice == \"lower\" and your_num < computer_num\n",
        "\n",
        "        if higher_and_correct or lower_and_correct:\n",
        "            print(\"You were right! The computer's number was\", computer_num)\n",
        "            # Milestone 5: keep track of your score\n",
        "            your_score += 1\n",
        "        else:\n",
        "            print(\"Aww, that's incorrect. The computer's number was\", computer_num)\n",
        "\n",
        "        # Milestone 5: keep track of your score\n",
        "        print(\"Your score is now\", your_score)\n",
        "        print()\n",
        "\n",
        "    print(\"Thanks for playing!\")\n",
        "\n",
        "if __name__ == \"__main__\":\n",
        "    main()\n"
      ]
    },
    {
      "cell_type": "code",
      "execution_count": null,
      "metadata": {
        "colab": {
          "base_uri": "https://localhost:8080/"
        },
        "id": "LmwwU6INSLC9",
        "outputId": "6809bc43-8c92-42c4-cdd5-f754fd922c0f"
      },
      "outputs": [
        {
          "name": "stdout",
          "output_type": "stream",
          "text": [
            "Planetary Weight Calculator\n",
            "Enter a weight on Earth: 23\n",
            "The equivalent on Mars: 8.69\n"
          ]
        }
      ],
      "source": [
        "\n",
        "# Milestone 1: Only Mars Weight\n",
        "\n",
        "print('Planetary Weight Calculator')\n",
        "\n",
        "\n",
        "def main():\n",
        "    earth_weight = float(input(\"Enter a weight on Earth: \"))\n",
        "    mars_weight = earth_weight * 0.378\n",
        "\n",
        "    rounded_weight = round(mars_weight, 2)\n",
        "\n",
        "    print('The equivalent on Mars:', rounded_weight)\n",
        "\n",
        "\n",
        "\n",
        "\n",
        "if __name__ == '__main__':\n",
        "    main()\n"
      ]
    },
    {
      "cell_type": "code",
      "execution_count": null,
      "metadata": {
        "colab": {
          "base_uri": "https://localhost:8080/"
        },
        "id": "cd6fpdcWkBIk",
        "outputId": "c92c17eb-38b9-4612-8c72-9cd8476652d5"
      },
      "outputs": [
        {
          "name": "stdout",
          "output_type": "stream",
          "text": [
            "Planetary Weight Calculator\n",
            "Enter a weight on Earth: 67\n",
            "Enter a planet: Uranus\n",
            "The equivalent weight on Uranus: 54.6\n"
          ]
        }
      ],
      "source": [
        "# Milestone 2: All Planets\n",
        "\n",
        "print(\"Planetary Weight Calculator\")\n",
        "\n",
        "def main():\n",
        "    # Earth weight input\n",
        "    earth_weight = float(input(\"Enter a weight on Earth: \"))\n",
        "\n",
        "    # Planet input\n",
        "    planet = input(\"Enter a planet: \").title()\n",
        "\n",
        "    # Gravity factors for each planet\n",
        "    gravity_factors = {\n",
        "        \"Mercury\": 0.376,\n",
        "        \"Venus\": 0.889,\n",
        "        \"Mars\": 0.378,\n",
        "        \"Jupiter\": 2.36,\n",
        "        \"Saturn\": 1.081,\n",
        "        \"Uranus\": 0.815,\n",
        "        \"Neptune\": 1.14,\n",
        "    }\n",
        "\n",
        "    # Check if planet exists in dictionary\n",
        "    if planet in gravity_factors:\n",
        "        weight_on_planet = earth_weight * gravity_factors[planet]\n",
        "        rounded_weight = round(weight_on_planet, 2)  # ✅ Use `round`, not `Rounded`\n",
        "\n",
        "        print(f\"The equivalent weight on {planet}: {rounded_weight}\")\n",
        "    else:\n",
        "        print(\"Invalid planet name.\")\n",
        "\n",
        "# ✅ This part should be outside the function block (fixed indentation)\n",
        "if __name__ == \"__main__\":\n",
        "    main()\n",
        "\n",
        "\n",
        "\n"
      ]
    },
    {
      "cell_type": "code",
      "execution_count": null,
      "metadata": {
        "colab": {
          "base_uri": "https://localhost:8080/"
        },
        "id": "lOWZiMDvSNXC",
        "outputId": "e294589a-87f3-4235-b0bc-7410c0be8119"
      },
      "outputs": [
        {
          "output_type": "stream",
          "name": "stdout",
          "text": [
            "Lists and Dicts\n",
            "Length of fruit_list: 5\n",
            "Updated fruit_list: ['mango', 'apple', 'orange', 'grape', 'pineapple', 'mango']\n",
            "Welcome to the List Game!\n",
            "Your current list: ['red', 'blue', 'green', 'yellow', 'purple']\n",
            "Choose operation (access / modify / slice): acces\n",
            "Invalid operation selected\n"
          ]
        },
        {
          "output_type": "execute_result",
          "data": {
            "text/plain": [
              "3"
            ]
          },
          "metadata": {},
          "execution_count": 15
        }
      ],
      "source": [
        "print('Lists and Dicts')\n",
        "my_list = ['apple', 'Mango', 'Banana', 'orange']\n",
        "\n",
        "# Element access karne ka function\n",
        "def access_element(lst, index):\n",
        "    if 0 <= index < len(lst):\n",
        "        return lst[index]\n",
        "    else:\n",
        "        return \"Index out of range\"\n",
        "\n",
        "# List ka hissa (slice) lene ka function\n",
        "def slice_list(lst, start, end):\n",
        "    if 0 <= start < len(lst) and 0 <= end <= len(lst) and start < end:\n",
        "        return lst[start:end]\n",
        "    else:\n",
        "        return \"Invalid slicing range\"\n",
        "\n",
        "# Element modify karne ka function\n",
        "def modify_element(lst, index, new_value):\n",
        "    if 0 <= index < len(lst):\n",
        "        lst[index] = new_value\n",
        "        return lst\n",
        "    else:\n",
        "        return \"Index out of range\"\n",
        "\n",
        "# Game function - user se input le kar list operations karta hai\n",
        "def play_game():\n",
        "    my_list = ['red', 'blue', 'green', 'yellow', 'purple']\n",
        "    print(\"Welcome to the List Game!\")\n",
        "    print(\"Your current list:\", my_list)\n",
        "\n",
        "    operation = input(\"Choose operation (access / modify / slice): \").strip().lower()\n",
        "\n",
        "    if operation == 'access':\n",
        "        index = int(input(\"Enter index to access: \"))\n",
        "        print(\"Result:\", access_element(my_list, index))\n",
        "\n",
        "    elif operation == 'modify':\n",
        "        index = int(input(\"Enter index to modify: \"))\n",
        "        new_value = input(\"Enter new value: \")\n",
        "        updated = modify_element(my_list, index, new_value)\n",
        "        print(\"Updated List:\", updated)\n",
        "\n",
        "    elif operation == 'slice':\n",
        "        start = int(input(\"Enter start index: \"))\n",
        "        end = int(input(\"Enter end index: \"))\n",
        "        print(\"Sliced list:\", slice_list(my_list, start, end))\n",
        "\n",
        "    else:\n",
        "        print(\"Invalid operation selected\")\n",
        "\n",
        "# Main function - fruit list ka kaam aur game chalata hai\n",
        "def main():\n",
        "    fruit_list = ['mango', 'apple', 'orange', 'grape', 'pineapple']\n",
        "    print(\"Length of fruit_list:\", len(fruit_list))\n",
        "\n",
        "    fruit_list.append('mango')  # mango end me add kiya\n",
        "    print(\"Updated fruit_list:\", fruit_list)\n",
        "\n",
        "    play_game()  # game run karna\n",
        "\n",
        "# Program start karne ka point\n",
        "if __name__ == \"__main__\":\n",
        "    main()\n",
        "3\n",
        "\n",
        "\n"
      ]
    },
    {
      "cell_type": "code",
      "execution_count": 6,
      "metadata": {
        "id": "8FUZvRBlKP7U",
        "colab": {
          "base_uri": "https://localhost:8080/"
        },
        "outputId": "ba56cc9b-1a21-4fc1-b770-802151c9eb84"
      },
      "outputs": [
        {
          "output_type": "stream",
          "name": "stdout",
          "text": [
            "Current list: [1, 2, 3, 4, 5]\n",
            "Choose an operation: access, modify, slice\n",
            "Enter operation: slice\n",
            "Enter start index: 3\n",
            "Enter end index: 5\n",
            "[4, 5]\n"
          ]
        }
      ],
      "source": [
        "# solution.py\n",
        "\n",
        "def access_element(lst, index):\n",
        "    try:\n",
        "        return lst[index]\n",
        "    except IndexError:\n",
        "        return \"Index out of range\"\n",
        "\n",
        "def modify_element(lst, index, new_value):\n",
        "    try:\n",
        "        lst[index] = new_value\n",
        "        return lst\n",
        "    except IndexError:\n",
        "        return \"Index out of range\"\n",
        "\n",
        "def slice_list(lst, start, end):\n",
        "    return lst[start:end]\n",
        "\n",
        "def index_game():\n",
        "    lst = [1, 2, 3, 4, 5]\n",
        "    print(\"Current list:\", lst)\n",
        "    print(\"Choose an operation: access, modify, slice\")\n",
        "    operation = input(\"Enter operation: \")\n",
        "\n",
        "    if operation == \"access\":\n",
        "        index = int(input(\"Enter index to access: \"))\n",
        "        print(access_element(lst, index))\n",
        "\n",
        "    elif operation == \"modify\":\n",
        "        index = int(input(\"Enter index to modify: \"))\n",
        "        new_value = input(\"Enter new value: \")\n",
        "        print(modify_element(lst, index, new_value))\n",
        "\n",
        "    elif operation == \"slice\":\n",
        "        start = int(input(\"Enter start index: \"))\n",
        "        end = int(input(\"Enter end index: \"))\n",
        "        print(slice_list(lst, start, end))\n",
        "\n",
        "    else:\n",
        "        print(\"Invalid operation\")\n",
        "\n",
        "# Function call to start the game\n",
        "index_game()\n",
        "\n",
        "\n"
      ]
    }
  ],
  "metadata": {
    "colab": {
      "provenance": [],
      "authorship_tag": "ABX9TyMA0lebWsFFSFTJvZ7JJTUX",
      "include_colab_link": true
    },
    "kernelspec": {
      "display_name": "Python 3",
      "name": "python3"
    },
    "language_info": {
      "name": "python"
    }
  },
  "nbformat": 4,
  "nbformat_minor": 0
}