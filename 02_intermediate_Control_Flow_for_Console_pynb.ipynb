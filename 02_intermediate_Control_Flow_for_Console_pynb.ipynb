{
  "cells": [
    {
      "cell_type": "markdown",
      "metadata": {
        "id": "view-in-github",
        "colab_type": "text"
      },
      "source": [
        "<a href=\"https://colab.research.google.com/github/NaghmanaImran/project_4_Assighment_Naghmana/blob/main/02_intermediate_Control_Flow_for_Console_pynb.ipynb\" target=\"_parent\"><img src=\"https://colab.research.google.com/assets/colab-badge.svg\" alt=\"Open In Colab\"/></a>"
      ]
    },
    {
      "cell_type": "code",
      "execution_count": null,
      "metadata": {
        "colab": {
          "background_save": true,
          "base_uri": "https://localhost:8080/"
        },
        "id": "ankUZR9oUuap",
        "outputId": "46ac973b-bc95-47dd-ac79-c410c4019aab"
      },
      "outputs": [
        {
          "name": "stdout",
          "output_type": "stream",
          "text": [
            "Welcome to the High-Low Game!\n",
            "--------------------------------\n",
            "\n",
            "Round 1\n",
            "Your number is 28\n",
            "You were right! The computer's number was 59.\n",
            "Your score is now 1\n",
            "\n",
            "Round 2\n",
            "Your number is 90\n",
            "Aww, that's incorrect. The computer's number was 14.\n",
            "Your score is now 1\n",
            "\n",
            "Round 3\n",
            "Your number is 73\n"
          ]
        }
      ],
      "source": [
        "import random\n",
        "\n",
        "def main():\n",
        "    score = 0\n",
        "    num_rounds = 5  # Total number of rounds\n",
        "\n",
        "    print('Welcome to the High-Low Game!')\n",
        "    print('--------------------------------')\n",
        "\n",
        "    for round_number in range(1, num_rounds + 1):\n",
        "        user_number = random.randint(1, 100)\n",
        "        computer_number = random.randint(1, 100)\n",
        "\n",
        "        print(f\"\\nRound {round_number}\")\n",
        "        print(f\"Your number is {user_number}\")\n",
        "\n",
        "        # Get user input\n",
        "        guess = input(\"Do you think your number is higher or lower than the computer's? (higher/lower): \").strip().lower()\n",
        "\n",
        "        # Validate input\n",
        "        while guess not in [\"higher\", \"lower\"]:\n",
        "            guess = input(\"Please enter either 'higher' or 'lower': \").strip().lower()\n",
        "\n",
        "        # Check for tie\n",
        "        if user_number == computer_number:\n",
        "            print(f\"Both numbers are the same: {user_number}. It's a tie! No points this round.\")\n",
        "        elif guess == \"higher\" and user_number > computer_number:\n",
        "            print(f\"You were right! The computer's number was {computer_number}.\")\n",
        "            score += 1\n",
        "        elif guess == \"lower\" and user_number < computer_number:\n",
        "            print(f\"You were right! The computer's number was {computer_number}.\")\n",
        "            score += 1\n",
        "        else:\n",
        "            print(f\"Aww, that's incorrect. The computer's number was {computer_number}.\")\n",
        "\n",
        "        print(f\"Your score is now {score}\")\n",
        "\n",
        "    # End game message\n",
        "    print(\"\\nThanks for playing!\")\n",
        "    print(f\"Your final score is {score}/{num_rounds}.\")\n",
        "\n",
        "    if score == num_rounds:\n",
        "        print(\"🌟 Wow! You played perfectly!\")\n",
        "    elif score >= num_rounds // 2:\n",
        "        print(\"👍 Good job, you played really well!\")\n",
        "    else:\n",
        "        print(\"😢 Better luck next time!\")\n",
        "\n",
        "if __name__ == '__main__':\n",
        "    main()\n",
        "\n"
      ]
    },
    {
      "cell_type": "code",
      "execution_count": null,
      "metadata": {
        "colab": {
          "background_save": true,
          "base_uri": "https://localhost:8080/"
        },
        "id": "yaWmOpgeYz_N",
        "outputId": "2d83e903-a93b-4b7c-f06b-143e181bebfb"
      },
      "outputs": [
        {
          "name": "stdout",
          "output_type": "stream",
          "text": [
            "solution.md\n",
            "Welcome to the High-Low Game!\n",
            "--------------------------------\n",
            "Round 1\n",
            "Your number is 65\n",
            "Aww, that's incorrect. The computer's number was 87\n",
            "Your score is now 0\n",
            "\n",
            "Round 2\n",
            "Your number is 94\n",
            "Aww, that's incorrect. The computer's number was 6\n",
            "Your score is now 0\n",
            "\n",
            "Round 3\n",
            "Your number is 14\n",
            "Aww, that's incorrect. The computer's number was 72\n",
            "Your score is now 0\n",
            "\n",
            "Round 4\n",
            "Your number is 58\n",
            "Aww, that's incorrect. The computer's number was 34\n",
            "Your score is now 0\n",
            "\n",
            "Round 5\n",
            "Your number is 45\n"
          ]
        }
      ],
      "source": [
        "print('solution.md')\n",
        "import random\n",
        "\n",
        "NUM_ROUNDS = 5\n",
        "\n",
        "def main():\n",
        "    print(\"Welcome to the High-Low Game!\")\n",
        "    print('--------------------------------')\n",
        "\n",
        "    # Milestone 5: keep track of your score\n",
        "    your_score = 0\n",
        "\n",
        "    # Milestone 4: Play multiple rounds\n",
        "    for i in range(NUM_ROUNDS):\n",
        "        print(\"Round\", i + 1)\n",
        "        # Milestone 1: Generate the random numbers and print them out\n",
        "        computer_num: int = random.randint(1, 100)\n",
        "        your_num: int = random.randint(1, 100)\n",
        "        print(\"Your number is\", your_num)\n",
        "\n",
        "        # Milestone 2: Get user input for their choice\n",
        "        choice: str = input(\"Do you think your number is higher or lower than the computer's?: \")\n",
        "\n",
        "        # Milestone 3: Map out all the ways to win the round\n",
        "        higher_and_correct: bool = choice == \"higher\" and your_num > computer_num\n",
        "        lower_and_correct: bool = choice == \"lower\" and your_num < computer_num\n",
        "\n",
        "        if higher_and_correct or lower_and_correct:\n",
        "            print(\"You were right! The computer's number was\", computer_num)\n",
        "            # Milestone 5: keep track of your score\n",
        "            your_score += 1\n",
        "        else:\n",
        "            print(\"Aww, that's incorrect. The computer's number was\", computer_num)\n",
        "\n",
        "        # Milestone 5: keep track of your score\n",
        "        print(\"Your score is now\", your_score)\n",
        "        print()\n",
        "\n",
        "    print(\"Thanks for playing!\")\n",
        "\n",
        "if __name__ == \"__main__\":\n",
        "    main()\n"
      ]
    },
    {
      "cell_type": "code",
      "execution_count": null,
      "metadata": {
        "id": "LmwwU6INSLC9"
      },
      "outputs": [],
      "source": [
        "# Milestone 1: Only Mars Weight\n",
        "\n",
        "print('Planetary Weight Calculator')\n",
        "\n",
        "\n",
        "def main():\n",
        "    earth_weight = float(input(\"Enter a weight on Earth: \"))\n",
        "    mars_weight = earth_weight * 0.378\n",
        "\n",
        "    rounded_weight = round(mars_weight, 2)\n",
        "\n",
        "    print('The equivalent on Mars:', rounded_weight)\n",
        "\n",
        "\n",
        "\n",
        "\n",
        "if __name__ == '__main__':\n",
        "    main()\n"
      ]
    },
    {
      "cell_type": "code",
      "execution_count": null,
      "metadata": {
        "id": "cd6fpdcWkBIk"
      },
      "outputs": [],
      "source": [
        "# Milestone 2: All Planets\n",
        "\n",
        "print(\"Planetary Weight Calculator\")\n",
        "\n",
        "def main():\n",
        "    # Earth weight input\n",
        "    earth_weight = float(input(\"Enter a weight on Earth: \"))\n",
        "\n",
        "    # Planet input\n",
        "    planet = input(\"Enter a planet: \")\n",
        "\n",
        "    # Gravity factors for each planet\n",
        "    gravity_factors = {\n",
        "        \"Mercury\": 0.376,\n",
        "        \"Venus\": 0.889,\n",
        "        \"Mars\": 0.378,\n",
        "        \"Jupiter\": 2.36,\n",
        "        \"Saturn\": 1.081,\n",
        "        \"Uranus\": 0.815,\n",
        "        \"Neptune\": 1.14,\n",
        "    }\n",
        "\n",
        "    # Check if planet exists in dictionary\n",
        "    if planet in gravity_factors:\n",
        "        weight_on_planet = earth_weight * gravity_factors[planet]\n",
        "        rounded_weight = round(weight_on_planet, 2)  # ✅ Use `round`, not `Rounded`\n",
        "\n",
        "        print(f\"The equivalent weight on {planet}: {rounded_weight}\")\n",
        "    else:\n",
        "        print(\"Invalid planet name.\")\n",
        "\n",
        "# ✅ This part should be outside the function block (fixed indentation)\n",
        "if __name__ == \"__main__\":\n",
        "    main()\n",
        "\n",
        "\n",
        "\n"
      ]
    }
  ],
  "metadata": {
    "colab": {
      "provenance": [],
      "authorship_tag": "ABX9TyO5VuADKi9B7m9nhH/0PsuI",
      "include_colab_link": true
    },
    "kernelspec": {
      "display_name": "Python 3",
      "name": "python3"
    },
    "language_info": {
      "name": "python"
    }
  },
  "nbformat": 4,
  "nbformat_minor": 0
}