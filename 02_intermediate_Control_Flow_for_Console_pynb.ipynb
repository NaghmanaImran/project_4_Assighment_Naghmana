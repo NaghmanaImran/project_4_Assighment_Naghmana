{
  "cells": [
    {
      "cell_type": "markdown",
      "metadata": {
        "id": "view-in-github",
        "colab_type": "text"
      },
      "source": [
        "<a href=\"https://colab.research.google.com/github/NaghmanaImran/project_4_Assighment_Naghmana/blob/main/02_intermediate_Control_Flow_for_Console_pynb.ipynb\" target=\"_parent\"><img src=\"https://colab.research.google.com/assets/colab-badge.svg\" alt=\"Open In Colab\"/></a>"
      ]
    },
    {
      "cell_type": "code",
      "execution_count": null,
      "metadata": {
        "colab": {
          "base_uri": "https://localhost:8080/"
        },
        "id": "ankUZR9oUuap",
        "outputId": "5c0c6b8d-25fe-4343-bf76-e522c6a66926"
      },
      "outputs": [
        {
          "name": "stdout",
          "output_type": "stream",
          "text": [
            "Welcome to the High-Low Game!\n",
            "--------------------------------\n",
            "\n",
            "Round 1\n",
            "Your number is 28\n",
            "Do you think your number is higher or lower than the computer's? (higher/lower): 8\n",
            "Please enter either 'higher' or 'lower': 88\n",
            "Please enter either 'higher' or 'lower': 2\n",
            "Please enter either 'higher' or 'lower': 67\n",
            "Please enter either 'higher' or 'lower': heigher\n",
            "Please enter either 'higher' or 'lower': lower\n",
            "You were right! The computer's number was 59.\n",
            "Your score is now 1\n",
            "\n",
            "Round 2\n",
            "Your number is 90\n",
            "Do you think your number is higher or lower than the computer's? (higher/lower): heigher\n",
            "Please enter either 'higher' or 'lower': either\n",
            "Please enter either 'higher' or 'lower': lower\n",
            "Aww, that's incorrect. The computer's number was 14.\n",
            "Your score is now 1\n",
            "\n",
            "Round 3\n",
            "Your number is 73\n",
            "Do you think your number is higher or lower than the computer's? (higher/lower): \n"
          ]
        }
      ],
      "source": [
        "import random\n",
        "\n",
        "def main():\n",
        "    score = 0\n",
        "    num_rounds = 5  # Total number of rounds\n",
        "\n",
        "    print('Welcome to the High-Low Game!')\n",
        "    print('--------------------------------')\n",
        "\n",
        "    for round_number in range(1, num_rounds + 1):\n",
        "        user_number = random.randint(1, 100)\n",
        "        computer_number = random.randint(1, 100)\n",
        "\n",
        "        print(f\"\\nRound {round_number}\")\n",
        "        print(f\"Your number is {user_number}\")\n",
        "\n",
        "        # Get user input\n",
        "        guess = input(\"Do you think your number is higher or lower than the computer's? (higher/lower): \").strip().lower()\n",
        "\n",
        "        # Validate input\n",
        "        while guess not in [\"higher\", \"lower\"]:\n",
        "            guess = input(\"Please enter either 'higher' or 'lower': \").strip().lower()\n",
        "\n",
        "        # Check for tie\n",
        "        if user_number == computer_number:\n",
        "            print(f\"Both numbers are the same: {user_number}. It's a tie! No points this round.\")\n",
        "        elif guess == \"higher\" and user_number > computer_number:\n",
        "            print(f\"You were right! The computer's number was {computer_number}.\")\n",
        "            score += 1\n",
        "        elif guess == \"lower\" and user_number < computer_number:\n",
        "            print(f\"You were right! The computer's number was {computer_number}.\")\n",
        "            score += 1\n",
        "        else:\n",
        "            print(f\"Aww, that's incorrect. The computer's number was {computer_number}.\")\n",
        "\n",
        "        print(f\"Your score is now {score}\")\n",
        "\n",
        "    # End game message\n",
        "    print(\"\\nThanks for playing!\")\n",
        "    print(f\"Your final score is {score}/{num_rounds}.\")\n",
        "\n",
        "    if score == num_rounds:\n",
        "        print(\"🌟 Wow! You played perfectly!\")\n",
        "    elif score >= num_rounds // 2:\n",
        "        print(\"👍 Good job, you played really well!\")\n",
        "    else:\n",
        "        print(\"😢 Better luck next time!\")\n",
        "\n",
        "if __name__ == '__main__':\n",
        "    main()\n",
        "\n"
      ]
    },
    {
      "cell_type": "code",
      "source": [
        "print('solution.md')\n",
        "import random\n",
        "\n",
        "NUM_ROUNDS = 5\n",
        "\n",
        "def main():\n",
        "    print(\"Welcome to the High-Low Game!\")\n",
        "    print('--------------------------------')\n",
        "\n",
        "    # Milestone 5: keep track of your score\n",
        "    your_score = 0\n",
        "\n",
        "    # Milestone 4: Play multiple rounds\n",
        "    for i in range(NUM_ROUNDS):\n",
        "        print(\"Round\", i + 1)\n",
        "        # Milestone 1: Generate the random numbers and print them out\n",
        "        computer_num: int = random.randint(1, 100)\n",
        "        your_num: int = random.randint(1, 100)\n",
        "        print(\"Your number is\", your_num)\n",
        "\n",
        "        # Milestone 2: Get user input for their choice\n",
        "        choice: str = input(\"Do you think your number is higher or lower than the computer's?: \")\n",
        "\n",
        "        # Milestone 3: Map out all the ways to win the round\n",
        "        higher_and_correct: bool = choice == \"higher\" and your_num > computer_num\n",
        "        lower_and_correct: bool = choice == \"lower\" and your_num < computer_num\n",
        "\n",
        "        if higher_and_correct or lower_and_correct:\n",
        "            print(\"You were right! The computer's number was\", computer_num)\n",
        "            # Milestone 5: keep track of your score\n",
        "            your_score += 1\n",
        "        else:\n",
        "            print(\"Aww, that's incorrect. The computer's number was\", computer_num)\n",
        "\n",
        "        # Milestone 5: keep track of your score\n",
        "        print(\"Your score is now\", your_score)\n",
        "        print()\n",
        "\n",
        "    print(\"Thanks for playing!\")\n",
        "\n",
        "if __name__ == \"__main__\":\n",
        "    main()\n"
      ],
      "metadata": {
        "id": "yaWmOpgeYz_N"
      },
      "execution_count": null,
      "outputs": []
    }
  ],
  "metadata": {
    "colab": {
      "provenance": [],
      "authorship_tag": "ABX9TyOMcgho5ZhpmyrKTHLpLd73",
      "include_colab_link": true
    },
    "kernelspec": {
      "display_name": "Python 3",
      "name": "python3"
    },
    "language_info": {
      "name": "python"
    }
  },
  "nbformat": 4,
  "nbformat_minor": 0
}