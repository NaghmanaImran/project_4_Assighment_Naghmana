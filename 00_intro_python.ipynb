{
  "cells": [
    {
      "cell_type": "markdown",
      "metadata": {
        "id": "view-in-github",
        "colab_type": "text"
      },
      "source": [
        "<a href=\"https://colab.research.google.com/github/NaghmanaImran/project_4_Assighment_Naghmana/blob/main/00_intro_python.ipynb\" target=\"_parent\"><img src=\"https://colab.research.google.com/assets/colab-badge.svg\" alt=\"Open In Colab\"/></a>"
      ]
    },
    {
      "cell_type": "markdown",
      "metadata": {
        "id": "P0NKhpgg-a-P"
      },
      "source": []
    },
    {
      "cell_type": "code",
      "execution_count": null,
      "metadata": {
        "colab": {
          "background_save": true,
          "base_uri": "https://localhost:8080/"
        },
        "id": "VnXkD_StpctT",
        "outputId": "603e6fe2-0448-4f00-c6a0-725a815c38dd"
      },
      "outputs": [
        {
          "name": "stdout",
          "output_type": "stream",
          "text": [
            "01_add_two_numbers.md\n",
            "this application is for addind two numbers,\n"
          ]
        }
      ],
      "source": [
        "\n",
        "print(\"01_add_two_numbers.md\")\n",
        "\n",
        "def add():\n",
        "  print(\"this application is for addind two numbers,\")\n",
        "\n",
        "  first_number = int(input(\"Enter your adding two number.\"))\n",
        "  second_number = int(input(\"Enter your first number:\"))\n",
        "\n",
        "  total = first_number + second_number\n",
        "\n",
        "  print(f'The total sum of {first_number} and {second_number}')\n",
        "\n",
        "if __name__ == '__main__':\n",
        "  add()\n",
        "\n",
        "\n",
        "\n",
        "\n"
      ]
    },
    {
      "cell_type": "code",
      "execution_count": null,
      "metadata": {
        "id": "ZkzBf8Zu_MQ8"
      },
      "outputs": [],
      "source": [
        "print('02_agreement_bot.md')\n",
        "def bot():\n",
        "\n",
        "  animal = str(input('whta is favourite animals'))\n",
        "  print(f'my favourite animals is also {animal}!')\n",
        "\n",
        "if __name__ == \"__main__\":\n",
        "  bot()\n",
        "\n"
      ]
    },
    {
      "cell_type": "code",
      "execution_count": null,
      "metadata": {
        "id": "0rdRerbyA2ed",
        "colab": {
          "base_uri": "https://localhost:8080/"
        },
        "outputId": "fd65d556-ab59-4ec9-d987-13aed10838ed"
      },
      "outputs": [
        {
          "output_type": "stream",
          "name": "stdout",
          "text": [
            "03_fahrenheit_to_celsius.md\n",
            "this code for converting farhenheight to celssius\n",
            "Enter your farhenheight degree67\n",
            "temprature 67.0 = 49.22222222222222\n"
          ]
        }
      ],
      "source": [
        "print('03_fahrenheit_to_celsius.md')\n",
        "\n",
        "def temp():\n",
        "  print(\"this code for converting farhenheight to celssius\")\n",
        "  farhenheight_degree = float(input(\"Enter your farhenheight degree\"))\n",
        "  celsius_degree = (farhenheight_degree -32*5.0/9.0)\n",
        "  print(f'temprature {farhenheight_degree} = {celsius_degree} c')\n",
        "\n",
        "if __name__ == \"__main__\":\n",
        "  temp()\n"
      ]
    },
    {
      "cell_type": "code",
      "source": [
        "\n",
        "\n",
        "# Anton, Beth, Chen, Drew, and Ethan are all friends. Their ages are as follows:\n",
        "\n",
        "# Anton is 21 years old.\n",
        "\n",
        "# Beth is 6 years older than Anton.\n",
        "\n",
        "# Chen is 20 years older than Beth.\n",
        "\n",
        "# Drew is as old as Chen's age plus Anton's age.\n",
        "\n",
        "# Ethan is the same age as Chen.\n",
        "\n",
        "# Your code should store each person's age to a variable and print their names and ages at the end. The autograder is sensitive to capitalization and punctuation, be careful! Your solution should look like this (the below numbers are made up -- your solution should have the correct values!):\n",
        "\n",
        "print(\"04_how_old_are_they.md\")\n",
        "def add_ages():\n",
        "  anthon : int = 21\n",
        "  beth:int = anthon + 6\n",
        "  chen:int = beth + 20\n",
        "  drew:int = chen + anthon\n",
        "  ethen: int = chen\n",
        "\n",
        "  print(\"Anthon is \" + str(anthon))\n",
        "  print(\"Beth is \" + str(beth))\n",
        "  print(\"Chen is \" + str(chen))\n",
        "  print(\"Drew is \" + str(drew))\n",
        "  print(\"Ethen is \" + str(ethen))\n",
        "\n",
        "\n",
        "if __name__ == \"__main__\":\n",
        "  add_ages()\n",
        "\n",
        "\n",
        "\n",
        "\n",
        "\n",
        "\n",
        "\n",
        "\n"
      ],
      "metadata": {
        "id": "UOIbRO-SO2If",
        "colab": {
          "base_uri": "https://localhost:8080/"
        },
        "outputId": "6638ae31-15c4-40ba-a76f-4246e6a2d2fe"
      },
      "execution_count": null,
      "outputs": [
        {
          "output_type": "stream",
          "name": "stdout",
          "text": [
            "04_how_old_are_they.md\n",
            "Anthon is 21\n",
            "Beth is 27\n",
            "Chen is 47\n",
            "Drew is 68\n",
            "Ethem is 47\n"
          ]
        }
      ]
    },
    {
      "cell_type": "code",
      "source": [
        "print(\"05_triangle_perimeter.md\")\n",
        "\n",
        "def triangle():\n",
        "  print(\"This code is about sum of triangle sides\")\n",
        "  side1:float = float(input(\"Enter your first side no of triangle\"))\n",
        "  side2:float = float(input(\"Enter your second side no of triangle \"))\n",
        "  side3:float = float(input(\"Enter your third side no of triangle\"))\n",
        "  total = (side1 + side2 + side3)\n",
        "  print(f\"the sum of trangle is {side1},{side2} and {side3} is {total}\")\n",
        "if __name__==\"__main__\":\n",
        "    triangle()"
      ],
      "metadata": {
        "colab": {
          "base_uri": "https://localhost:8080/"
        },
        "id": "xw6y66AbdGbh",
        "outputId": "06eb27ee-d811-4cf4-a6b6-f9fc9ed7bd51"
      },
      "execution_count": 12,
      "outputs": [
        {
          "output_type": "stream",
          "name": "stdout",
          "text": [
            "05_triangle_perimeter.md\n",
            "This code is about sum of triangle sides\n",
            "Enter your first side no of triangle7\n",
            "Enter your second side no of triangle 9\n",
            "Enter your third side no of triangle9\n",
            "the sum of trangle is 7.0,9.0 and 9.0 is 25.0\n"
          ]
        }
      ]
    },
    {
      "cell_type": "code",
      "source": [
        "# Ask the user for a number and print its square (the product of the number times itself).\n",
        "\n",
        "# Here's a sample run of the program (user input is in bold italics):\n",
        "\n",
        "# Type a number to see its square: 4\n",
        "\n",
        "# 4.0 squared is 16.0\n",
        "\n",
        "\n",
        "print(\"06_square_number.md\")\n",
        "\n",
        "def square():\n",
        "  print(\"This code is about sqaure of given number\")\n",
        "  num1:int = int(input(\"Enter any number and i will give a square value\"))\n",
        "  print(f'the square value of {num1} is {num1 ** 2}')\n",
        "if __name__ == \"__main__\":\n",
        "  square()\n",
        "\n",
        "\n",
        "\n",
        ""
      ],
      "metadata": {
        "colab": {
          "base_uri": "https://localhost:8080/"
        },
        "id": "SeyakSV8kkO8",
        "outputId": "124670c9-f1f6-4e27-e02f-a0e706b0ed5d"
      },
      "execution_count": 13,
      "outputs": [
        {
          "output_type": "stream",
          "name": "stdout",
          "text": [
            "06_square_number.md\n",
            "This code is about sqaure of given number\n",
            "Enter any number and i will give a square value5\n",
            "the square value of 5 is 25\n"
          ]
        }
      ]
    }
  ],
  "metadata": {
    "colab": {
      "provenance": [],
      "authorship_tag": "ABX9TyPue+Me2R9mVdy5uaiuhFBW",
      "include_colab_link": true
    },
    "kernelspec": {
      "display_name": "Python 3",
      "name": "python3"
    },
    "language_info": {
      "name": "python"
    }
  },
  "nbformat": 4,
  "nbformat_minor": 0
}