{
  "cells": [
    {
      "cell_type": "markdown",
      "metadata": {
        "id": "view-in-github",
        "colab_type": "text"
      },
      "source": [
        "<a href=\"https://colab.research.google.com/github/NaghmanaImran/project_4_Assighment_Naghmana/blob/main/online_class_projects_basics.ipynb\" target=\"_parent\"><img src=\"https://colab.research.google.com/assets/colab-badge.svg\" alt=\"Open In Colab\"/></a>"
      ]
    },
    {
      "cell_type": "code",
      "execution_count": null,
      "metadata": {
        "colab": {
          "base_uri": "https://localhost:8080/"
        },
        "id": "lYC1alsFy2_H",
        "outputId": "0146c55f-7b48-47fd-f26e-3fa77fc7be88"
      },
      "outputs": [
        {
          "name": "stdout",
          "output_type": "stream",
          "text": [
            "00_joke_bot.md\n",
            "What do you want?song\n",
            "Sorry i only tell jokes\n"
          ]
        }
      ],
      "source": [
        "print('00_joke_bot.md')\n",
        "import random\n",
        "\n",
        "PROMPT = \"What do you want?\"\n",
        "JOKES = [ \"Here is a joke for you! Why did the Python developer go broke? Because he kept using 'except: pass' in his budget plan!\",\n",
        "    \"Here is a joke for you! Why do Python programmers prefer dark mode? Because light attracts bugs!\",\n",
        "    \"Here is a joke for you! How do you generate a random string in Python? Put a junior developer in front of the keyboard and tell them to code!\",\n",
        "    \"Here is a joke for you! Panaversity GPT - Sophia is heading out to the grocery store. A programmer tells her: get a liter of milk, and if they have eggs, get 12. Sophia returns with 13 liters of milk. The programmer asks why and Sophia replies: 'because they had eggs\"]\n",
        "SORRY = \"Sorry I only tell jokes\"\n",
        "\n",
        "def main():\n",
        "  user_input = input(PROMPT).strip().lower()\n",
        "  if user_input == \"jokes\":\n",
        "\n",
        "    print(random.choice(JOKES))\n",
        "  else:\n",
        "     print(\"Sorry i only tell jokes\")\n",
        "if __name__ == \"__main__\":\n",
        "  main()\n"
      ]
    },
    {
      "cell_type": "code",
      "execution_count": null,
      "metadata": {
        "colab": {
          "base_uri": "https://localhost:8080/"
        },
        "id": "BotvE2h58VR-",
        "outputId": "d600dff1-6908-4181-bcbb-c397d7056150"
      },
      "outputs": [
        {
          "metadata": {
            "tags": null
          },
          "name": "stdout",
          "output_type": "stream",
          "text": [
            "01_double_it.md\n",
            "10 20 40 80 160 "
          ]
        }
      ],
      "source": [
        "print(\"01_double_it.md\")\n",
        "\n",
        "def main():\n",
        "    # User se number lena\n",
        "    curr_value = int(input(\"Enter a number: \"))\n",
        "\n",
        "    # Jab tak number 100 se chhota hai, usay double karte jao\n",
        "    while curr_value < 100:\n",
        "        curr_value = curr_value * 2\n",
        "        print(curr_value, end=\" \")\n",
        "\n",
        "if __name__ == '__main__':\n",
        "    main()\n",
        "\n",
        "    main()"
      ]
    },
    {
      "cell_type": "code",
      "execution_count": null,
      "metadata": {
        "id": "0MMYX7zI-IGk"
      },
      "outputs": [],
      "source": [
        "print('02_liftoff.md')\n",
        "def main():\n",
        "    # Countdown from 10 to 1\n",
        "    for i in range(10):\n",
        "        print(10 - i, end=\" \")\n",
        "    print(\"Liftoff!\")\n",
        "\n",
        "# Calling the main function\n",
        "if __name__ == \"__main__\":\n",
        "    main()\n",
        "\n"
      ]
    },
    {
      "cell_type": "code",
      "source": [
        "print(\"guess_my_number.md\")\n",
        "import random\n",
        "\n",
        "def main():\n",
        "    # Generate the secret number at random!\n",
        "    secret_number: int = random.randint(1, 99)\n",
        "\n",
        "    print(\"I am thinking of a number between 1 and 99...\")\n",
        "\n",
        "    # Get user's guess\n",
        "    guess = int(input(\"Enter a guess: \"))\n",
        "    # True if guess is not equal to secret number\n",
        "    while guess != secret_number:\n",
        "        if guess < secret_number:  # If-statement is True if guess is less than secret number\n",
        "            print(\"Your guess is too low\")\n",
        "        else:\n",
        "            print(\"Your guess is too high\")\n",
        "\n",
        "        print() # Print an empty line to tidy up the console for new guesses\n",
        "        guess: int = int(input(\"Enter a new guess: \"))  # Get a new guess from the user\n",
        "\n",
        "    print(\"Congrats! The number was: \" + str(secret_number))\n",
        "\n",
        "if __name__ == '__main__':\n",
        "    main()\n"
      ],
      "metadata": {
        "id": "mLoeTcROJM2T"
      },
      "execution_count": null,
      "outputs": []
    },
    {
      "cell_type": "code",
      "source": [
        "print('04_random_numbers.md')\n",
        "import random\n",
        "\n",
        "# Constants\n",
        "N_NUMBERS = 10\n",
        "MIN_VALUE = 1\n",
        "MAX_VALUE = 100\n",
        "\n",
        "def main():\n",
        "    # Generate and print 10 random numbers between MIN_VALUE and MAX_VALUE\n",
        "    for _ in range(N_NUMBERS):\n",
        "        print(random.randint(MIN_VALUE, MAX_VALUE), end=' ')\n",
        "\n",
        "if __name__ == '__main__':\n",
        "    main()\n"
      ],
      "metadata": {
        "id": "hwMkd7i5MBq1"
      },
      "execution_count": null,
      "outputs": []
    }
  ],
  "metadata": {
    "colab": {
      "provenance": [],
      "authorship_tag": "ABX9TyPwBIc1a4XwMHZywgUYj4nj",
      "include_colab_link": true
    },
    "kernelspec": {
      "display_name": "Python 3",
      "name": "python3"
    },
    "language_info": {
      "name": "python"
    }
  },
  "nbformat": 4,
  "nbformat_minor": 0
}