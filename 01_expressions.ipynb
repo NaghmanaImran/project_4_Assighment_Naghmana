{
  "nbformat": 4,
  "nbformat_minor": 0,
  "metadata": {
    "colab": {
      "provenance": [],
      "authorship_tag": "ABX9TyNAAjULG5GS0IGIACQnj329",
      "include_colab_link": true
    },
    "kernelspec": {
      "name": "python3",
      "display_name": "Python 3"
    },
    "language_info": {
      "name": "python"
    }
  },
  "cells": [
    {
      "cell_type": "markdown",
      "metadata": {
        "id": "view-in-github",
        "colab_type": "text"
      },
      "source": [
        "<a href=\"https://colab.research.google.com/github/NaghmanaImran/project_4_Assighment_Naghmana/blob/main/01_expressions.ipynb\" target=\"_parent\"><img src=\"https://colab.research.google.com/assets/colab-badge.svg\" alt=\"Open In Colab\"/></a>"
      ]
    },
    {
      "cell_type": "code",
      "execution_count": null,
      "metadata": {
        "colab": {
          "base_uri": "https://localhost:8080/"
        },
        "id": "AOh-A0GTezti",
        "outputId": "da583305-eac0-4f56-fa4a-f8da0a376b3d"
      },
      "outputs": [
        {
          "output_type": "stream",
          "name": "stdout",
          "text": [
            "dicesimulator.md\n",
            "die1 in main() start as :\"+ str(die1)\n",
            "Total of two dies:9\n",
            "Total of two dies:4\n",
            "Total of two dies:6\n",
            "die1 in main() is:10\n"
          ]
        }
      ],
      "source": [
        "import random\n",
        "\n",
        "print('dicesimulator.md')\n",
        "def roll_dice():\n",
        "  die1:int = random.randint(1,6)\n",
        "  die2:int = random.randint(1,6)\n",
        "  total:int = die1 + die2\n",
        "  print(f'Total of two dies:{total}')\n",
        "\n",
        "def main():\n",
        "  die1:int = 10\n",
        "  print('die1 in main() start as :\"+ str(die1)')\n",
        "  roll_dice()\n",
        "\n",
        "  roll_dice()\n",
        "\n",
        "  roll_dice()\n",
        "  print(\"die1 in main() is:\"+ str(die1))\n",
        "\n",
        "if __name__ == \"__main__\":\n",
        "  main()\n",
        "\n",
        "\n",
        "\n"
      ]
    },
    {
      "cell_type": "code",
      "source": [
        "def energy():\n",
        "    c = 299792458  # Speed of light in meters per second\n",
        "    m = float(input(\"Enter kilos of mass: \"))  # Convert input to float\n",
        "    e = m * c ** 2  # Calculate energy\n",
        "\n",
        "    print('e = m * c²')\n",
        "    print(f'Mass = {m} kg')\n",
        "    print(f'c = {c} m/s')\n",
        "    print(f'Energy (e) = {e} joules')\n",
        "\n",
        "if __name__ == \"__main__\":\n",
        "    energy()\n",
        "\n"
      ],
      "metadata": {
        "id": "RkbLmEwyUYjh",
        "colab": {
          "base_uri": "https://localhost:8080/"
        },
        "outputId": "7d994ee0-1ba5-4ab1-8a93-729a5be95308"
      },
      "execution_count": 2,
      "outputs": [
        {
          "output_type": "stream",
          "name": "stdout",
          "text": [
            "Enter kilos of mass: 139\n",
            "e = m * c²\n",
            "Mass = 139.0 kg\n",
            "c = 299792458 m/s\n",
            "Energy (e) = 1.2492696984441764e+19 joules\n"
          ]
        }
      ]
    },
    {
      "cell_type": "code",
      "source": [
        "print('03_feet_to_inches.md')\n",
        "\n",
        "inch: int = 12\n",
        "\n",
        "def foot():\n",
        "  feet:int = int (input('Enter feet and i will convert into inches'))\n",
        "  print(f'there are (inch * feet)inches i (feet) feet.')\n",
        "\n",
        "if __name__==\"__main__\":\n",
        "  foot()\n",
        "\n",
        "\n"
      ],
      "metadata": {
        "colab": {
          "base_uri": "https://localhost:8080/"
        },
        "id": "Y7uzIhO6cJf-",
        "outputId": "9e359266-3fc6-4cae-adc5-467e7efafae7"
      },
      "execution_count": 5,
      "outputs": [
        {
          "output_type": "stream",
          "name": "stdout",
          "text": [
            "03_feet_to_inches.md\n",
            "Enter feet and i will convert into inches45\n",
            "there are (inch * feet)inches i (feet) feet.\n"
          ]
        }
      ]
    },
    {
      "cell_type": "code",
      "source": [
        "import math  # Math module import kar rahe hain\n",
        "print('04_pythagorean_theorem.md')\n",
        "\n",
        "def triangle():\n",
        "    # User se input lena aur float mein convert karna\n",
        "    ab: float = float(input('Enter the length of the side AB: '))\n",
        "    ac: float = float(input('Enter the length of the side AC: '))\n",
        "\n",
        "    # Pythagorean theorem ka formula\n",
        "    bc: float = math.sqrt(ab**2 + ac**2)\n",
        "\n",
        "    # Sahi formatting ke saath output print karna\n",
        "    print(f'The length of BC (the hypotenuse) is: {bc}')\n",
        "\n",
        "# Function call jab script run ho\n",
        "if __name__ == '__main__':\n",
        "    triangle()\n"
      ],
      "metadata": {
        "colab": {
          "base_uri": "https://localhost:8080/"
        },
        "id": "ViFEc2vagOoV",
        "outputId": "61670a4b-8786-4c24-c1f6-822fd0593c4e"
      },
      "execution_count": 10,
      "outputs": [
        {
          "output_type": "stream",
          "name": "stdout",
          "text": [
            "04_pythagorean_theorem.md\n",
            "Enter the length of the side AB: 4.9\n",
            "Enter the length of the side AC: 5.8\n",
            "The length of BC (the hypotenuse) is: 7.592759709091287\n"
          ]
        }
      ]
    },
    {
      "cell_type": "code",
      "source": [
        "\n",
        "print('remainder_division.md')\n",
        "\n",
        "def remainder():\n",
        "    num1: int = int(input('Enter the integer to be divided: '))\n",
        "    num2: int = int(input('Enter the integer to divide by: '))\n",
        "\n",
        "    quotient: int = num1 // num2  # Integer division\n",
        "    remainder: int = num1 % num2  # Modulus operator for remainder\n",
        "\n",
        "    print(f'The result of this division is {quotient} with a remainder of {remainder}')\n",
        "\n",
        "# Function call jab script run ho\n",
        "if __name__ == '__main__':\n",
        "    remainder()\n"
      ],
      "metadata": {
        "colab": {
          "base_uri": "https://localhost:8080/"
        },
        "id": "0McWSTbomtrm",
        "outputId": "a0fb600e-e8ea-490a-f780-e83fec212c83"
      },
      "execution_count": 12,
      "outputs": [
        {
          "output_type": "stream",
          "name": "stdout",
          "text": [
            "remainder_division.md\n",
            "Enter the integer to be divided: 60\n",
            "Enter the integer to divide by: 3\n",
            "The result of this division is 20 with a remainder of 0\n"
          ]
        }
      ]
    },
    {
      "cell_type": "code",
      "source": [
        "import random\n",
        "print('06_rolldice.md')\n",
        "\n",
        "def dice():\n",
        "  die1:int = random.randint(1,6)\n",
        "  die2:int = random.randint(1,6)\n",
        "  total:int = int(die1 + die2)\n",
        "  print(\"First die:\" + str(die1))\n",
        "  print(\"Second die:\" + str(die2))\n",
        "  print(f'total of two die : {total}')\n",
        "\n",
        "if __name__== \"__main__\":\n",
        "  dice()\n",
        "\n",
        "\n"
      ],
      "metadata": {
        "colab": {
          "base_uri": "https://localhost:8080/"
        },
        "id": "cHuU_n8Rrejo",
        "outputId": "f20ccd35-58d6-4b0d-c120-eaa6032cda7d"
      },
      "execution_count": 18,
      "outputs": [
        {
          "output_type": "stream",
          "name": "stdout",
          "text": [
            "06_rolldice.md\n",
            "First die:6\n",
            "Second die:1\n",
            "total of two die : 7\n"
          ]
        }
      ]
    },
    {
      "cell_type": "code",
      "source": [
        "print('06_seconds_in_year.md')\n",
        "days_in_year: int = 365  # or 366 for a leap year\n",
        "hours_per_day: int = 24\n",
        "minutes_per_hour: int = 60\n",
        "seconds_per_minute: int = 60\n",
        "\n",
        "def seconds():\n",
        "    print(f'There are {days_in_year * hours_per_day * minutes_per_hour * seconds_per_minute} seconds in a year!')\n",
        "\n",
        "if __name__ == '__main__':\n",
        "    seconds()\n",
        "\n"
      ],
      "metadata": {
        "colab": {
          "base_uri": "https://localhost:8080/"
        },
        "id": "sy-wSjQ-yiSl",
        "outputId": "be7e272e-141b-4736-9af2-597afe51cbae"
      },
      "execution_count": 20,
      "outputs": [
        {
          "output_type": "stream",
          "name": "stdout",
          "text": [
            "06_seconds_in_year.md\n",
            "There are 31536000 seconds in a year!\n"
          ]
        }
      ]
    },
    {
      "cell_type": "code",
      "source": [
        "print('07_tiny_mad_lib.md')\n",
        "\n",
        "def mad_lib():\n",
        "    noun: str = input(\"Enter a noun: \")\n",
        "    adjective: str = input(\"Enter an adjective: \")\n",
        "    verb: str = input(\"Enter a verb: \")\n",
        "    adverb: str = input(\"Enter an adverb: \")\n",
        "\n",
        "    print(f\"Do you {verb} your {adjective} {noun} {adverb}? That's hilarious!\")\n",
        "\n",
        "if __name__ == '__main__':\n",
        "    mad_lib()\n",
        "\n"
      ],
      "metadata": {
        "colab": {
          "base_uri": "https://localhost:8080/"
        },
        "id": "SCPAwrxf98wl",
        "outputId": "9865fffb-c230-4619-8685-a8d9cbf0a905"
      },
      "execution_count": 24,
      "outputs": [
        {
          "output_type": "stream",
          "name": "stdout",
          "text": [
            "07_tiny_mad_lib.md\n",
            "Enter a noun: cat\n",
            "Enter an adjective: cute\n",
            "Enter a verb: sleep\n",
            "Enter an adverb: home\n",
            "Do you sleep your cute cat home? That's hilarious!\n"
          ]
        }
      ]
    }
  ]
}